{
 "cells": [
  {
   "cell_type": "code",
   "execution_count": 9,
   "metadata": {},
   "outputs": [
    {
     "name": "stdout",
     "output_type": "stream",
     "text": [
      "<class 'int'>  <class 'int'>  <class 'int'>  <class 'int'>\n",
      "<class 'float'>  <class 'float'>  <class 'float'>  <class 'float'>\n",
      "<class 'bool'> <class 'bool'>\n",
      "<class 'complex'>\n",
      "<class 'str'>  <class 'str'>  <class 'str'>  <class 'str'>\n"
     ]
    }
   ],
   "source": [
    "#WAP  to demostrate basic datatype in python\n",
    "\n",
    "#Integer\n",
    "\n",
    "a = 15     # decimal 15\n",
    "b = 0b1111 # binary 15\n",
    "c = 0o17   # octal 15\n",
    "d = 0xF    # hexadecimal 15\n",
    "\n",
    "print(type(a),type(b),type(c),type(d),sep=\"  \")\n",
    "\n",
    "#Floating Point\n",
    "\n",
    "a = 2.4     # normal float notation\n",
    "b = 0.0004  #normal float notation\n",
    "c = .24e1   #scientific float notation\n",
    "d = .4e-3   #scientificic float notation\n",
    "\n",
    "print(type(a),type(b),type(c),type(d),sep=\"  \")\n",
    "\n",
    "\n",
    "#Boolean \n",
    "\n",
    "a=True\n",
    "b=False\n",
    "print(type(a),type(b),sep=\" \")\n",
    "\n",
    "\n",
    "#Complex Numbers\n",
    "\n",
    "a= 3 + 4j\n",
    "print(type(a))\n",
    "\n",
    "\n",
    "#String\n",
    "\n",
    "a = 'hello \\tata'  #single quote string\n",
    "b = \"hello' \\tata\" #double quote string\n",
    "c=  \"\"\"hello\n",
    "        \\tata\"\"\"   # Doc String\n",
    "d= r\"hello \\tata\"  #raw string\n",
    "\n",
    "print(type(a),type(b),type(c),type(d),sep=\"  \")\n"
   ]
  },
  {
   "cell_type": "code",
   "execution_count": 18,
   "metadata": {},
   "outputs": [
    {
     "name": "stdout",
     "output_type": "stream",
     "text": [
      "enter first x coordinate2\n",
      "enter first y coordinate2\n",
      "enter second x coordinate2\n",
      "enter second y coordinate2\n",
      "dsitance is 0.0\n",
      "enter first x coordinate2\n",
      "enter first y coordinate2\n",
      "enter second x coordinate2\n",
      "enter second y coordinate2\n",
      "dsitance is 0.0\n"
     ]
    }
   ],
   "source": [
    "#WAP to compute distance between 2 points\n",
    "\n",
    "# without math module\n",
    "x1 = int(input(\"enter first x coordinate\"))\n",
    "y1 = int(input(\"enter first y coordinate\"))\n",
    "x2 = int(input(\"enter second x coordinate\"))\n",
    "y2 = int(input(\"enter second y coordinate\"))\n",
    "dist = (((x2-x1)**2)+((y2-y1)**2))**.05\n",
    "print(\"dsitance is\",dist)\n",
    "\n",
    "#with math module\n",
    "import math\n",
    "x1 = int(input(\"enter first x coordinate\"))\n",
    "y1 = int(input(\"enter first y coordinate\"))\n",
    "x2 = int(input(\"enter second x coordinate\"))\n",
    "y2 = int(input(\"enter second y coordinate\"))\n",
    "dist = math.sqrt(((x2-x1)**2)+((y2-y1)**2))\n",
    "print(\"dsitance is\",dist)\n"
   ]
  },
  {
   "cell_type": "code",
   "execution_count": 19,
   "metadata": {},
   "outputs": [
    {
     "name": "stdout",
     "output_type": "stream",
     "text": [
      "enter first no. 2\n",
      "enter second no. 3\n",
      "5\n"
     ]
    }
   ],
   "source": [
    "# WAP a program add.py that works through CLI\n",
    "\n",
    "a = int(input(\"enter first no. \"))\n",
    "b = int(input(\"enter second no. \"))\n",
    "print(a+b)\n"
   ]
  },
  {
   "cell_type": "code",
   "execution_count": 23,
   "metadata": {},
   "outputs": [
    {
     "name": "stdout",
     "output_type": "stream",
     "text": [
      "3\n",
      "is even?  False\n"
     ]
    }
   ],
   "source": [
    "# Wap to check a no is even of not\n",
    "\n",
    "#Without if-else\n",
    "num = int(input())\n",
    "print(\"is even? \",not bool(num%2))"
   ]
  },
  {
   "cell_type": "code",
   "execution_count": 26,
   "metadata": {},
   "outputs": [
    {
     "name": "stdout",
     "output_type": "stream",
     "text": [
      "1/2 = 0.5\n",
      "1/3 = 0.3333333333333333\n",
      "1/4 = 0.25\n",
      "1/5 = 0.2\n",
      "1/6 = 0.16666666666666666\n",
      "1/7 = 0.14285714285714285\n",
      "1/8 = 0.125\n",
      "1/9 = 0.1111111111111111\n",
      "1/10 = 0.1\n"
     ]
    }
   ],
   "source": [
    "# Wap to print 1/2,1/3...1/10\n",
    "\n",
    "for i in range(2,11):\n",
    "    print(\"1/{} =\".format(i),1/i)"
   ]
  },
  {
   "cell_type": "code",
   "execution_count": 44,
   "metadata": {},
   "outputs": [
    {
     "name": "stdout",
     "output_type": "stream",
     "text": [
      "<class 'tuple'> <class 'tuple'>\n",
      "<class 'list'> <class 'list'>\n",
      "Enter number of elements : 2\n",
      "3\n",
      "3\n",
      "[3, 3]\n",
      "Enter number of elements : 2\n",
      "3\n",
      "4\n",
      "(3, 3, 3, 4)\n"
     ]
    }
   ],
   "source": [
    "#wap to demostrate list and tuple\n",
    "\n",
    "#tuple\n",
    "a = ()\n",
    "b = tuple()\n",
    "print(type(a) , type(b) , sep=\" \")\n",
    "\n",
    "#list \n",
    "\n",
    "a = []\n",
    "b = list()\n",
    "print(type(a) , type(b) , sep=\" \")\n",
    "\n",
    "#user input\n",
    "l = [] \n",
    "n = int(input(\"Enter number of elements : \")) \n",
    "for i in range(n):\n",
    "    ele = int(input())\n",
    "    l.append(ele) # adding the element \n",
    "      \n",
    "print(l) \n",
    "\n",
    "l=[]\n",
    "t = ()  #non mutable\n",
    "n = int(input(\"Enter number of elements : \")) \n",
    "for i in range(n):\n",
    "    ele = int(input())\n",
    "    l.append(ele) # adding the element \n",
    "t=tuple(l)\n",
    "print(t)\n",
    "\n",
    "\n"
   ]
  },
  {
   "cell_type": "code",
   "execution_count": 50,
   "metadata": {},
   "outputs": [
    {
     "name": "stdout",
     "output_type": "stream",
     "text": [
      "0 1 2 3 4 \n",
      "r o h a n \n",
      "1 rap 2.4 True (3+4j) \n",
      "1 rohan 2.001 "
     ]
    }
   ],
   "source": [
    "# WAP to use for loop to loop over sequence\n",
    "\n",
    "a = 'rohan'\n",
    "b = [1,'rap',2.4,True,3+4j]\n",
    "c = (1, \"rohan\" , 2.001)\n",
    "\n",
    "\n",
    "for i in range(5): #Iterating through a range\n",
    "    print(i, sep=\" \" , end = \" \")\n",
    "print(\"\")\n",
    "\n",
    "for i in a:  #Iterating through a string\n",
    "    print(i, sep=\" \" , end = \" \")\n",
    "\n",
    "print(\"\")\n",
    "for i in b:  #Iterating through a list\n",
    "    print(i, sep=\" \" , end = \" \")\n",
    "\n",
    "print(\"\")\n",
    "for i in c:  #Iterating through a tuple\n",
    "    print(i, sep=\" \", end = \" \")\n"
   ]
  },
  {
   "cell_type": "code",
   "execution_count": 52,
   "metadata": {},
   "outputs": [
    {
     "name": "stdout",
     "output_type": "stream",
     "text": [
      "5\n",
      "5 4 3 2 1 "
     ]
    }
   ],
   "source": [
    " #WAP to use while loop for reverse countdown\n",
    "\n",
    "n = int(input())\n",
    "while(n>0):\n",
    "    print(n,sep=',',end=' ')\n",
    "    n-=1"
   ]
  },
  {
   "cell_type": "code",
   "execution_count": 64,
   "metadata": {},
   "outputs": [
    {
     "name": "stdout",
     "output_type": "stream",
     "text": [
      "142913828922\n"
     ]
    }
   ],
   "source": [
    "#WAp to find sum of prime below 2 million\n",
    "max_val = 2000000\n",
    "\n",
    "# create a set excluding even numbers\n",
    "numbers = set(range(3, max_val + 1, 2)) \n",
    "\n",
    "for number in range(3, int(max_val ** 0.5) + 1):\n",
    "    if number not in numbers:\n",
    "        #number must have been removed because it has a prime factor\n",
    "        continue\n",
    "\n",
    "    num = number\n",
    "    while num < max_val:\n",
    "        num += number\n",
    "        if num in numbers:\n",
    "            # Remove multiples of prime found\n",
    "            numbers.remove(num)\n",
    "\n",
    "print (2 + sum(numbers))"
   ]
  },
  {
   "cell_type": "code",
   "execution_count": 66,
   "metadata": {},
   "outputs": [
    {
     "name": "stdout",
     "output_type": "stream",
     "text": [
      "4613732\n"
     ]
    }
   ],
   "source": [
    "#WAP to find sum of even fibonacci upto 4mil\n",
    "\n",
    "def evenFibSum(limit) : \n",
    "    if (limit < 2) : \n",
    "        return 0\n",
    "  \n",
    "    # Initialize first two even prime numbers \n",
    "    # and their sum \n",
    "    ef1 = 0\n",
    "    ef2 = 2\n",
    "    sm= ef1 + ef2 \n",
    "      \n",
    "    # calculating sum of even Fibonacci value \n",
    "    while (ef2 <= limit) : \n",
    "  \n",
    "        # get next even value of Fibonacci  \n",
    "        # sequence \n",
    "        ef3 = 4 * ef2 + ef1 \n",
    "  \n",
    "        # If we go beyond limit, we break loop \n",
    "        if (ef3 > limit) : \n",
    "            break\n",
    "  \n",
    "        # Move to next even number and update \n",
    "        # sum \n",
    "        ef1 = ef2 \n",
    "        ef2 = ef3 \n",
    "        sm = sm + ef2 \n",
    "      \n",
    "    return sm \n",
    "  \n",
    " \n",
    "limit = 4000000\n",
    "print(evenFibSum(limit))"
   ]
  },
  {
   "cell_type": "code",
   "execution_count": 68,
   "metadata": {},
   "outputs": [
    {
     "name": "stdout",
     "output_type": "stream",
     "text": [
      "{'a': 6, 'b': 6, 'd': 2, 'f': 6, 's': 4, 'e': 3, 'w': 2, 'r': 4, 'g': 4, 'v': 2, 'h': 2}\n"
     ]
    }
   ],
   "source": [
    "#WAP to count no of char in string and store in dict\n",
    "string = \"aaaabbbbdfsfsfsfewregfbgvrahgr\"\n",
    "d={}\n",
    "for i in string:\n",
    "    if i not in d:\n",
    "        d[i]=1\n",
    "    d[i]+=1\n",
    "print(d)"
   ]
  },
  {
   "cell_type": "code",
   "execution_count": 79,
   "metadata": {},
   "outputs": [
    {
     "name": "stdout",
     "output_type": "stream",
     "text": [
      "{'20-dec-1999': '20'}\n"
     ]
    }
   ],
   "source": [
    "#TRACE BDAY using spilt and join using dictionary\n",
    "\n",
    "string = '20 dec 1999'\n",
    "d={}\n",
    "l = string.split(' ')\n",
    "for i in l:\n",
    "    try: \n",
    "        if(int(i)>0 and int(i)<32) and (i not in d):\n",
    "            d['-'.join(l)]=i\n",
    "    except: continue\n",
    "print(d)"
   ]
  },
  {
   "cell_type": "code",
   "execution_count": 106,
   "metadata": {},
   "outputs": [],
   "source": [
    "#nearly equal strings\n",
    "def nearlyEqual(string1,string2):\n",
    "    if len(string1)==len(string2):\n",
    "        return len(\"\".join(set(string1)-set(string2))) == 1"
   ]
  },
  {
   "cell_type": "code",
   "execution_count": 110,
   "metadata": {},
   "outputs": [
    {
     "data": {
      "text/plain": [
       "True"
      ]
     },
     "execution_count": 110,
     "metadata": {},
     "output_type": "execute_result"
    }
   ],
   "source": [
    "nearlyEqual('rohan','rrhan')"
   ]
  },
  {
   "cell_type": "code",
   "execution_count": 118,
   "metadata": {},
   "outputs": [],
   "source": [
    "#gcd and lcm in 1 line\n",
    "\n",
    "def gcd(n1,n2):\n",
    "    return gcd(n2,n1%n2) if n2!=0 else n1 \n",
    "def lcm(n1,n2):\n",
    "    return (n1*n2)/gcd(n1,n2)"
   ]
  },
  {
   "cell_type": "code",
   "execution_count": 119,
   "metadata": {},
   "outputs": [
    {
     "data": {
      "text/plain": [
       "60.0"
      ]
     },
     "execution_count": 119,
     "metadata": {},
     "output_type": "execute_result"
    }
   ],
   "source": [
    "lcm(15,20)"
   ]
  },
  {
   "cell_type": "code",
   "execution_count": 120,
   "metadata": {},
   "outputs": [
    {
     "name": "stdout",
     "output_type": "stream",
     "text": [
      "Given array is\n",
      "12 11 13 5 6 7 \n",
      "Sorted array is: \n",
      "5 6 7 11 12 13 \n"
     ]
    }
   ],
   "source": [
    "#merge sort\n",
    "def mergeSort(arr): \n",
    "    if len(arr) >1: \n",
    "        mid = len(arr)//2 #Finding the mid of the array \n",
    "        L = arr[:mid] # Dividing the array elements  \n",
    "        R = arr[mid:] # into 2 halves \n",
    "  \n",
    "        mergeSort(L) # Sorting the first half \n",
    "        mergeSort(R) # Sorting the second half \n",
    "  \n",
    "        i = j = k = 0\n",
    "          \n",
    "        # Copy data to temp arrays L[] and R[] \n",
    "        while i < len(L) and j < len(R): \n",
    "            if L[i] < R[j]: \n",
    "                arr[k] = L[i] \n",
    "                i+=1\n",
    "            else: \n",
    "                arr[k] = R[j] \n",
    "                j+=1\n",
    "            k+=1\n",
    "          \n",
    "        # Checking if any element was left \n",
    "        while i < len(L): \n",
    "            arr[k] = L[i] \n",
    "            i+=1\n",
    "            k+=1\n",
    "          \n",
    "        while j < len(R): \n",
    "            arr[k] = R[j] \n",
    "            j+=1\n",
    "            k+=1\n",
    "  \n",
    "# Code to print the list \n",
    "def printList(arr): \n",
    "    for i in range(len(arr)):         \n",
    "        print(arr[i],end=\" \") \n",
    "    print() \n",
    "  \n",
    "# driver code to test the above code \n",
    "if __name__ == '__main__': \n",
    "    arr = [12, 11, 13, 5, 6, 7]  \n",
    "    print (\"Given array is\", end=\"\\n\")  \n",
    "    printList(arr) \n",
    "    mergeSort(arr) \n",
    "    print(\"Sorted array is: \", end=\"\\n\") \n",
    "    printList(arr) "
   ]
  },
  {
   "cell_type": "code",
   "execution_count": 126,
   "metadata": {},
   "outputs": [
    {
     "name": "stdout",
     "output_type": "stream",
     "text": [
      "Sorted array\n",
      "11\n",
      "12\n",
      "22\n",
      "25\n",
      "64\n"
     ]
    }
   ],
   "source": [
    "#Selection Sort\n",
    "A = [64, 25, 12, 22, 11] \n",
    "  \n",
    "# Traverse through all array elements \n",
    "for i in range(len(A)): \n",
    "      \n",
    "    # Find the minimum element in remaining  \n",
    "    # unsorted array \n",
    "    min_idx = i \n",
    "    for j in range(i+1, len(A)): \n",
    "        if A[min_idx] > A[j]: \n",
    "            min_idx = j \n",
    "              \n",
    "    # Swap the found minimum element with  \n",
    "    # the first element         \n",
    "    A[i], A[min_idx] = A[min_idx], A[i] \n",
    "  \n",
    "# Driver code to test above \n",
    "print (\"Sorted array\") \n",
    "for i in A: \n",
    "    print(i)"
   ]
  },
  {
   "cell_type": "code",
   "execution_count": 127,
   "metadata": {},
   "outputs": [
    {
     "name": "stdout",
     "output_type": "stream",
     "text": [
      "5\n",
      "6\n",
      "11\n",
      "12\n",
      "13\n"
     ]
    }
   ],
   "source": [
    "#insertion sort\n",
    "def insertionSort(arr): \n",
    "  \n",
    "    # Traverse through 1 to len(arr) \n",
    "    for i in range(1, len(arr)): \n",
    "  \n",
    "        key = arr[i] \n",
    "  \n",
    "        # Move elements of arr[0..i-1], that are \n",
    "        # greater than key, to one position ahead \n",
    "        # of their current position \n",
    "        j = i-1\n",
    "        while j >= 0 and key < arr[j] : \n",
    "                arr[j + 1] = arr[j] \n",
    "                j -= 1\n",
    "        arr[j + 1] = key \n",
    "  \n",
    "  \n",
    "# Driver code to test above \n",
    "arr = [12, 11, 13, 5, 6] \n",
    "insertionSort(arr) \n",
    "for i in arr: \n",
    "    print (i) "
   ]
  },
  {
   "cell_type": "code",
   "execution_count": null,
   "metadata": {},
   "outputs": [],
   "source": []
  }
 ],
 "metadata": {
  "kernelspec": {
   "display_name": "Python 3",
   "language": "python",
   "name": "python3"
  },
  "language_info": {
   "codemirror_mode": {
    "name": "ipython",
    "version": 3
   },
   "file_extension": ".py",
   "mimetype": "text/x-python",
   "name": "python",
   "nbconvert_exporter": "python",
   "pygments_lexer": "ipython3",
   "version": "3.7.3"
  }
 },
 "nbformat": 4,
 "nbformat_minor": 2
}
