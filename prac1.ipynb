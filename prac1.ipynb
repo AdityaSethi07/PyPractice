{
 "cells": [
  {
   "cell_type": "markdown",
   "metadata": {},
   "source": [
    "# INTRODUCTION TO SOFTWARE BASED AUTOMATION\n"
   ]
  },
  {
   "cell_type": "markdown",
   "metadata": {},
   "source": [
    "\n",
    "Installing\n",
    "\n",
    "If you have pip on your system, you can simply install or upgrade the Python bindings:\n",
    "->pip install -U selenium\n",
    "\n",
    "If you don't have pip, install Python(pip is installed automatically)"
   ]
  },
  {
   "cell_type": "raw",
   "metadata": {},
   "source": [
    "To use selenium with browsers:\n",
    "Chrome:\thttps://sites.google.com/a/chromium.org/chromedriver/downloads\n",
    "Firefox:\thttps://github.com/mozilla/geckodriver/releases\n",
    "\n",
    "^these are links for installing drivers.\n",
    "\n",
    "what are drivers?\n",
    "\n",
    "the code we write needs to work on the browser and use it's features. So it acts as a mediator between the programming language and the browser"
   ]
  },
  {
   "cell_type": "code",
   "execution_count": 12,
   "metadata": {},
   "outputs": [
    {
     "data": {
      "text/plain": [
       "'\\n-->open a new Chrome browser\\n-->loads the page at the given URL\\n'"
      ]
     },
     "execution_count": 12,
     "metadata": {},
     "output_type": "execute_result"
    }
   ],
   "source": [
    "\"\"\"\n",
    "EXAMPLE 1 : GETTING STARTED WITH SELENIUM (THE VERY BASICS)\n",
    "\"\"\"\n",
    "\n",
    "from selenium import webdriver\n",
    "\n",
    "link = 'http://seleniumhq.org/'\n",
    "\n",
    "browser = webdriver.Chrome()\n",
    "browser.get(link)\n",
    "\n",
    "\n",
    "\"\"\"\n",
    "-->open a new Chrome browser\n",
    "-->loads the page at the given URL\n",
    "\"\"\""
   ]
  },
  {
   "cell_type": "code",
   "execution_count": 4,
   "metadata": {},
   "outputs": [],
   "source": [
    "\"\"\"\n",
    "EXAMPLE TWO: Manipulating the browser\n",
    "\"\"\"\n",
    "\n",
    "from selenium import webdriver\n",
    "from selenium.webdriver.common.keys import Keys\n",
    "\n",
    "browser = webdriver.Chrome()\n",
    "\n",
    "link = 'http://www.google.com'\n",
    "\n",
    "what_to_search = 'incubate ind'\n",
    "\n",
    "browser.get(link)\n",
    "\n",
    "\n",
    "elem = browser.find_element_by_name('q')     # Find the search box\n",
    "elem.send_keys(what_to_search)               # Enters what we want to search  \n",
    "elem.send_keys(Keys.RETURN)                  # Presses Enter\n",
    "browser.quit()                               #closes browser\n",
    "\n",
    "\n",
    "\"\"\"\n",
    "-->open a new Chrome browser\n",
    "-->load the Google homepage\n",
    "-->search for whatever we want to\n",
    "-->press enter\n",
    "-->close the browser\n",
    "\"\"\""
   ]
  },
  {
   "cell_type": "code",
   "execution_count": 10,
   "metadata": {},
   "outputs": [],
   "source": [
    "\"\"\"\n",
    "EXAMPLE THREE: INTERACTING WITH BUTTONS ON WEBSITES\n",
    "\n",
    "\"\"\"\n",
    "from selenium import webdriver\n",
    "from selenium.webdriver.common.action_chains import ActionChains\n",
    "\n",
    "browser = webdriver.Chrome()\n",
    "action  = ActionChains(browser)                 # using mouse/ clicking is ecternal action, so we store that\n",
    "\n",
    "link = 'https://scorecounter.com/click-counter/'\n",
    "browser.get(link)\n",
    "\n",
    "elem = browser.find_element_by_class_name('clickInput')  #Find the counter\n",
    "\n",
    "action.move_to_element(elem).perform()                   #Move to the counter and status is perform\n",
    "elem.click()                                             # What to perform? Click\n",
    "\n",
    "\"\"\"\n",
    "-->open a new Chrome browser\n",
    "-->load an online cick counter\n",
    "-->Finds the position of counter\n",
    "-->moves mouse there to perform action\n",
    "-->performs the action of clicking\n",
    "\"\"\""
   ]
  },
  {
   "cell_type": "code",
   "execution_count": 11,
   "metadata": {},
   "outputs": [
    {
     "data": {
      "text/plain": [
       "'\\n-->open a new Chrome browser\\n-->load an online cick counter\\n-->Finds the position of counter\\n-->moves mouse there to perform action\\n-->performs the action of clicking repeatedly\\n'"
      ]
     },
     "execution_count": 11,
     "metadata": {},
     "output_type": "execute_result"
    }
   ],
   "source": [
    "\"\"\"\n",
    "EXAMPLE FOUR: REPETITVE CLICKING\n",
    "\n",
    "\"\"\"\n",
    "from selenium import webdriver\n",
    "from selenium.webdriver.common.action_chains import ActionChains\n",
    "\n",
    "browser = webdriver.Chrome()\n",
    "action  = ActionChains(browser)                 # using mouse/ clicking is ecternal action, so we store that\n",
    "\n",
    "link = 'https://scorecounter.com/click-counter/'\n",
    "browser.get(link)\n",
    "\n",
    "elem = browser.find_element_by_class_name('clickInput')  #Find the counter\n",
    "\n",
    "for no_of_clicks in range(3):                            #to repeat clicks\n",
    "    action.move_to_element(elem).perform()              #Move to the counter and status is perform\n",
    "    elem.click()                                        # What to perform? Clik\n",
    "\n",
    "\"\"\"\n",
    "-->open a new Chrome browser\n",
    "-->load an online cick counter\n",
    "-->Finds the position of counter\n",
    "-->moves mouse there to perform action\n",
    "-->performs the action of clicking repeatedly\n",
    "\"\"\""
   ]
  },
  {
   "cell_type": "code",
   "execution_count": 32,
   "metadata": {},
   "outputs": [],
   "source": [
    "\"\"\"\n",
    "EXAMPLE 5: LETS COMBINE IT ALL\n",
    "\n",
    "\"\"\"\n",
    "\n",
    "from selenium import webdriver\n",
    "\n",
    "\n",
    "\n",
    "link = 'https://www.youtube.com/watch?v=_neeCXmbMOc'\n",
    "browser = webdriver.Chrome()\n",
    "browser.get(link)\n",
    "\n"
   ]
  },
  {
   "cell_type": "code",
   "execution_count": null,
   "metadata": {},
   "outputs": [],
   "source": []
  },
  {
   "cell_type": "code",
   "execution_count": null,
   "metadata": {},
   "outputs": [],
   "source": []
  }
 ],
 "metadata": {
  "kernelspec": {
   "display_name": "Python 3",
   "language": "python",
   "name": "python3"
  },
  "language_info": {
   "codemirror_mode": {
    "name": "ipython",
    "version": 3
   },
   "file_extension": ".py",
   "mimetype": "text/x-python",
   "name": "python",
   "nbconvert_exporter": "python",
   "pygments_lexer": "ipython3",
   "version": "3.7.3"
  }
 },
 "nbformat": 4,
 "nbformat_minor": 2
}
