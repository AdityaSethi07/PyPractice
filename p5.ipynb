{
 "cells": [
  {
   "cell_type": "markdown",
   "metadata": {},
   "source": [
    "# list questions\n"
   ]
  },
  {
   "cell_type": "code",
   "execution_count": 1,
   "metadata": {},
   "outputs": [],
   "source": [
    "#q1\n",
    "def print_list(list1):\n",
    "    for i in list1:\n",
    "        print(i,end=' ')"
   ]
  },
  {
   "cell_type": "code",
   "execution_count": 2,
   "metadata": {},
   "outputs": [],
   "source": [
    "#q2\n",
    "def search_number_index(list1,num):\n",
    "    try: \n",
    "        return list1.index(num)\n",
    "    except ValueError:\n",
    "        return \"{} not in list\".format(num)"
   ]
  },
  {
   "cell_type": "code",
   "execution_count": 3,
   "metadata": {},
   "outputs": [],
   "source": [
    "#q3\n",
    "def check_sequence(list1):\n",
    "    return 1 in list1 and 2 in list1 and 3 in list1"
   ]
  },
  {
   "cell_type": "code",
   "execution_count": 4,
   "metadata": {},
   "outputs": [],
   "source": [
    "#q4\n",
    "def insert_in_list(n,k,list1):\n",
    "    return list1.insert(k,n)"
   ]
  },
  {
   "cell_type": "code",
   "execution_count": 5,
   "metadata": {},
   "outputs": [],
   "source": [
    "#q5\n",
    "def make_and_reverse_list(n):\n",
    "    inp=int(input())\n",
    "    list1=[]\n",
    "    list1.append(inp)\n",
    "    while n-1:\n",
    "        inp=int(input())\n",
    "        list1.append(inp)\n",
    "        n-=1\n",
    "    return list(reversed(list1))"
   ]
  },
  {
   "cell_type": "code",
   "execution_count": 6,
   "metadata": {},
   "outputs": [],
   "source": [
    "#q7\n",
    "def filter_lists(list1,list2):\n",
    "    return list(filter(lambda x: x%2 ,list1))+list(filter(lambda x: not x%2,list2))"
   ]
  },
  {
   "cell_type": "code",
   "execution_count": 7,
   "metadata": {},
   "outputs": [],
   "source": [
    "#q8\n",
    "def find_runnerup(list1):\n",
    "    list1=set(list1)\n",
    "    list1.remove(max(list1))\n",
    "    return max(list1)"
   ]
  },
  {
   "cell_type": "code",
   "execution_count": 8,
   "metadata": {},
   "outputs": [],
   "source": [
    "#q9\n",
    "#still working\n",
    "#same as question 18        "
   ]
  },
  {
   "cell_type": "code",
   "execution_count": 9,
   "metadata": {},
   "outputs": [],
   "source": [
    "#q11\n",
    "def square_list(list1):\n",
    "    return list(map(lambda x:x**2,list1 ))\n"
   ]
  },
  {
   "cell_type": "code",
   "execution_count": 10,
   "metadata": {},
   "outputs": [
    {
     "data": {
      "text/plain": [
       "[1, 4, 9, 16, 25]"
      ]
     },
     "execution_count": 10,
     "metadata": {},
     "output_type": "execute_result"
    }
   ],
   "source": [
    "square_list([1,2,3,4,5])"
   ]
  },
  {
   "cell_type": "code",
   "execution_count": 11,
   "metadata": {},
   "outputs": [],
   "source": [
    "#q12\n",
    "def filter_greater_than_square(list1):\n",
    "    return list(filter(lambda x: x>(min(list1))**2,list1))"
   ]
  },
  {
   "cell_type": "code",
   "execution_count": 12,
   "metadata": {},
   "outputs": [
    {
     "data": {
      "text/plain": [
       "[]"
      ]
     },
     "execution_count": 12,
     "metadata": {},
     "output_type": "execute_result"
    }
   ],
   "source": [
    "filter_greater_than_square([2,3,4])"
   ]
  },
  {
   "cell_type": "code",
   "execution_count": 13,
   "metadata": {},
   "outputs": [],
   "source": [
    "#q13\n",
    "def find_max_min(list1):\n",
    "    return max(list1),min(list1)"
   ]
  },
  {
   "cell_type": "code",
   "execution_count": 14,
   "metadata": {},
   "outputs": [],
   "source": [
    "#q14\n",
    "def find_even(list1):\n",
    "    return list(filter(lambda x: not x%2,list1))"
   ]
  },
  {
   "cell_type": "code",
   "execution_count": 15,
   "metadata": {},
   "outputs": [
    {
     "data": {
      "text/plain": [
       "[2, 4, 6, 8]"
      ]
     },
     "execution_count": 15,
     "metadata": {},
     "output_type": "execute_result"
    }
   ],
   "source": [
    "find_even([1,2,3,4,5,6,7,8])"
   ]
  },
  {
   "cell_type": "code",
   "execution_count": 16,
   "metadata": {},
   "outputs": [],
   "source": [
    "#q15\n",
    "def find_even_sq(list1):\n",
    "    return list(filter(lambda x: not x**.5%2,list1))"
   ]
  },
  {
   "cell_type": "code",
   "execution_count": 17,
   "metadata": {},
   "outputs": [],
   "source": [
    "#q16\n",
    "def list_sq_slice(list1=[1,2,3,4,5,6,7,8,9,10,11,12,13,14,15,16,17,18,19,20]):\n",
    "    temp=list(map(lambda x: x**2,list1))\n",
    "    return temp[5:]"
   ]
  },
  {
   "cell_type": "code",
   "execution_count": 18,
   "metadata": {},
   "outputs": [],
   "source": [
    "#q17\n",
    "# https://www.hackerrank.com/challenges/text-wrap/problem\n",
    "def wrap_text(string,num):\n",
    "    temp=\"\"\n",
    "    k=0\n",
    "    for i in range(len(string)):\n",
    "        temp+=string[k:k+num] + '\\n'\n",
    "        k+=num\n",
    "    return temp\n",
    "        "
   ]
  },
  {
   "cell_type": "code",
   "execution_count": 19,
   "metadata": {},
   "outputs": [],
   "source": [
    "#q18\n",
    "# https://www.hackerrank.com/challenges/picking-numbers/problem\n",
    "#same as question 9\n",
    "def abs_diff(list):\n",
    "    pass"
   ]
  },
  {
   "cell_type": "code",
   "execution_count": 20,
   "metadata": {},
   "outputs": [],
   "source": [
    "#q19\n",
    "# https://www.hackerrank.com/challenges/palindrome-index/problem\n",
    "\"\"\"question 11\n",
    "Check palindrome\"\"\"\n",
    "def check_palindrome(string1):\n",
    "    size=len(string1)\n",
    "    flag=0\n",
    "    \n",
    "    for i in range(0,size):\n",
    "        if string1[i] != string1[size-i-1] :\n",
    "            flag=i\n",
    "            break\n",
    "        else:\n",
    "            flag=-1\n",
    "    return flag\n",
    "    "
   ]
  },
  {
   "cell_type": "code",
   "execution_count": 21,
   "metadata": {},
   "outputs": [],
   "source": [
    "#q20\n",
    "# https://www.hackerrank.com/challenges/find-digits/problem\n",
    "def find_digits(num):\n",
    "    temp=num\n",
    "    count=0\n",
    "    while num:\n",
    "        try:\n",
    "            if not temp%(num%10):\n",
    "                count+=1        \n",
    "            num=int(num/10)\n",
    "        except ZeroDivisionError:\n",
    "            num=int(num/10)\n",
    "            \n",
    "    return count\n",
    "        "
   ]
  },
  {
   "cell_type": "code",
   "execution_count": 22,
   "metadata": {},
   "outputs": [],
   "source": [
    "#q21\n",
    "# https://www.hackerrank.com/challenges/staircase/problem\n",
    "def print_staircase(num):\n",
    "    string1='#'\n",
    "    string2=' '\n",
    "    i,k=0,num\n",
    "    for i in range(num):\n",
    "        print(string2*(k-1) + string1*(i+1) )\n",
    "        k=k-1"
   ]
  },
  {
   "cell_type": "code",
   "execution_count": 30,
   "metadata": {},
   "outputs": [],
   "source": [
    "#q22\n",
    "# https://www.hackerrank.com/challenges/find-second-maximum-number-in-a-list/problem\n",
    "def find_runner_up(list1):\n",
    "    list1=set(list1)\n",
    "    list1.remove(max(list1))\n",
    "    return max(list1)"
   ]
  },
  {
   "cell_type": "code",
   "execution_count": 31,
   "metadata": {},
   "outputs": [
    {
     "data": {
      "text/plain": [
       "5"
      ]
     },
     "execution_count": 31,
     "metadata": {},
     "output_type": "execute_result"
    }
   ],
   "source": [
    "find_runner_up([1,2,3,4,5,6,6])"
   ]
  },
  {
   "cell_type": "code",
   "execution_count": null,
   "metadata": {},
   "outputs": [],
   "source": []
  }
 ],
 "metadata": {
  "kernelspec": {
   "display_name": "Python 3",
   "language": "python",
   "name": "python3"
  },
  "language_info": {
   "codemirror_mode": {
    "name": "ipython",
    "version": 3
   },
   "file_extension": ".py",
   "mimetype": "text/x-python",
   "name": "python",
   "nbconvert_exporter": "python",
   "pygments_lexer": "ipython3",
   "version": "3.7.3"
  }
 },
 "nbformat": 4,
 "nbformat_minor": 2
}
