{
 "cells": [
  {
   "cell_type": "code",
   "execution_count": 1,
   "metadata": {},
   "outputs": [],
   "source": [
    "\"\"\"question 1\n",
    "1.Find the length of a string using loops (not len()).\"\"\"\n",
    "def find_length(var):\n",
    "    count=0\n",
    "    for i in var:\n",
    "        count=count+1\n",
    "    return count"
   ]
  },
  {
   "cell_type": "code",
   "execution_count": 2,
   "metadata": {},
   "outputs": [],
   "source": [
    "\"\"\"question 2\n",
    "2.Write a program that accepts two strings and outputs the concatenation of them.\n",
    "      Example: ‘hello’ , ‘world’ ==> ‘helloworld’.\n",
    "\"\"\"\n",
    "def concat(var1,var2):\n",
    "    return var1+var2\n",
    "    #return var3"
   ]
  },
  {
   "cell_type": "code",
   "execution_count": 3,
   "metadata": {},
   "outputs": [],
   "source": [
    "\"\"\"question 3\n",
    "Write a program that accepts a sentence (string) and calculate the number of letters and digits. \n",
    "Example: ‘this is a test sentence number 389’ ==> letters = 25 and digits = 3.\"\"\"\n",
    "def str_count(var_):\n",
    "    alpha=0\n",
    "    num=0\n",
    "    spl=0\n",
    "    for i in var_:\n",
    "        if i.isdigit():\n",
    "            num += 1\n",
    "        elif i.isalpha():\n",
    "            alpha += 1\n",
    "        else:\n",
    "            spl+= 1\n",
    "    return num,alpha,spl"
   ]
  },
  {
   "cell_type": "code",
   "execution_count": 4,
   "metadata": {},
   "outputs": [],
   "source": [
    "\"\"\"question 4\n",
    "Write a program to print every character of a \n",
    "string entered by user in a new line using loop \"\"\"\n",
    "def print_char(val):\n",
    "    #val\n",
    "    for i in val:\n",
    "        print(i)\n",
    "    "
   ]
  },
  {
   "cell_type": "code",
   "execution_count": 5,
   "metadata": {},
   "outputs": [],
   "source": [
    "\"\"\"question 5\n",
    "Write a program that accepts a string and outputs the string with all capital letters.\n",
    "Example: ‘hello’ ==> ‘HELLO’\n",
    "\"\"\"\n",
    "\n",
    "def to_cap(str_val):\n",
    "    temp=''\n",
    "    for i in str_val:\n",
    "        if i.isupper():\n",
    "            temp += i\n",
    "        else:\n",
    "            temp += i.swapcase()\n",
    "    return temp\n",
    "    "
   ]
  },
  {
   "cell_type": "code",
   "execution_count": 6,
   "metadata": {},
   "outputs": [],
   "source": [
    "\"\"\"question 7\n",
    "Input a string from the user and print only the even index characters.\"\"\"\n",
    "def even_index(inp):\n",
    "    temp=''\n",
    "    j=0\n",
    "    for i in range(0,len(inp)):\n",
    "        if(i%2==0):\n",
    "            temp += inp[i]\n",
    "            j += 1\n",
    "    return temp\n"
   ]
  },
  {
   "cell_type": "code",
   "execution_count": 7,
   "metadata": {},
   "outputs": [],
   "source": [
    "\"\"\"question 6\n",
    "Write a program that accepts a sentence and calculate the \n",
    "number of upper case letters and lower case letters.\"\"\"\n",
    "def str_upper_lower_count(var_):\n",
    "    l_alpha=0\n",
    "    u_alpha=0\n",
    "    for i in var_:\n",
    "        if i.isalpha() and i.isupper():\n",
    "            u_alpha += 1\n",
    "        elif i.isalpha() and i.islower():\n",
    "            l_alpha += 1\n",
    "        \n",
    "    return u_alpha,l_alpha\n",
    "    "
   ]
  },
  {
   "cell_type": "code",
   "execution_count": 8,
   "metadata": {},
   "outputs": [],
   "source": [
    "\"\"\"question 8\n",
    "Given a string and an int n, remove characters from string starting from zero upto n (n not included) and return the resultant string.  \n",
    "Example -  ‘hello’  2  ===> ‘llo’\"\"\"\n",
    "def slicestring(string,slice_val):\n",
    "    return string[slice_val:-1]+string[-1]\n",
    "    \n"
   ]
  },
  {
   "cell_type": "code",
   "execution_count": 9,
   "metadata": {},
   "outputs": [],
   "source": [
    "\"\"\"question 9\n",
    "Swap cases in a string using loop\"\"\"\n",
    "\n",
    "def case_swap(var_):\n",
    "    temp=''\n",
    "    for i in var_:\n",
    "        if i.isupper():\n",
    "            temp += i.swapcase()\n",
    "        elif i.islower():\n",
    "            temp += i.swapcase()\n",
    "    return temp"
   ]
  },
  {
   "cell_type": "code",
   "execution_count": 10,
   "metadata": {},
   "outputs": [],
   "source": [
    "\"\"\"question 10\n",
    "Write  a program that counts the occurrence of a character in a string. \n",
    "Example: ‘This is a test string.’ count of i = 3.\"\"\"\n",
    "def count_occourance(str1,var1):\n",
    "    return str1.count(var1)\n",
    "    "
   ]
  },
  {
   "cell_type": "code",
   "execution_count": 11,
   "metadata": {},
   "outputs": [],
   "source": [
    "\"\"\"question 11\n",
    "Check palindrome\"\"\"\n",
    "def check_palindrome(string1):\n",
    "    size=len(string1)\n",
    "    flag=0\n",
    "    for i in range(0,size):\n",
    "        if string1[i] != string1[size-i-1] :\n",
    "            flag =1\n",
    "    return bool(flag)\n",
    "        "
   ]
  },
  {
   "cell_type": "code",
   "execution_count": 12,
   "metadata": {},
   "outputs": [],
   "source": [
    "\"\"\"question 12\n",
    "check anagram without using sorting\"\"\"\n",
    "#without sorting\n",
    "def anagram(str_1,str_2):\n",
    "    sum1=0\n",
    "    sum2=0\n",
    "    if len(str_1) != len(str_2):\n",
    "        return False\n",
    "    else:\n",
    "        for i in range(0,len(str_1)):\n",
    "            if str_1.count(str_1[i]) and str_2.count(str_1[i]):\n",
    "                sum1 += ord(str_1[i])\n",
    "                sum2 += ord(str_2[i])\n",
    "            else:\n",
    "                sum1=-1\n",
    "                break\n",
    "    return sum1==sum2\n",
    "\n",
    "#with sorting\n",
    "def anagram2(str_1,str_2):\n",
    "    return sorted(str_1)==sorted(str_2)\n",
    "    \n",
    "    "
   ]
  },
  {
   "cell_type": "code",
   "execution_count": 13,
   "metadata": {},
   "outputs": [
    {
     "data": {
      "text/plain": [
       "'question 13'"
      ]
     },
     "execution_count": 13,
     "metadata": {},
     "output_type": "execute_result"
    }
   ],
   "source": [
    "\"\"\"question 13\"\"\"\n",
    "#same as quesiton 7 just worded differently"
   ]
  },
  {
   "cell_type": "code",
   "execution_count": 14,
   "metadata": {},
   "outputs": [],
   "source": [
    "\"\"\"question 14\n",
    "Given a string, return a new string where the first and last characters have been exchanged. \n",
    "Example - ‘hello’  ==> ‘oellh’\"\"\"\n",
    "def swap_char(str_to_be_swapped):\n",
    "    return str_to_be_swapped[-1]+str_to_be_swapped[1:-1]+str_to_be_swapped[0]"
   ]
  },
  {
   "cell_type": "code",
   "execution_count": 15,
   "metadata": {},
   "outputs": [],
   "source": [
    "\"\"\"quesiton 15\n",
    "Write a program to that accepts a string s, an index number n and a character ‘c’. \n",
    "And outputs the string replaced with the character at the index number n. \n",
    "Example- ‘hello’ , 0 , ‘j’ ==> ‘jello’\"\"\"\n",
    "#without using the string method\n",
    "\n",
    "def replace_letter(str1_,num,char):\n",
    "    return str1_[0:num]+char+str1_[num+1:len(str1_)]\n",
    "\n",
    "    "
   ]
  },
  {
   "cell_type": "code",
   "execution_count": 16,
   "metadata": {},
   "outputs": [],
   "source": [
    "\"\"\"question 16\n",
    "Output the integer number indicating the total number of occurrences \n",
    "of the substring in the original string.\"\"\"\n",
    "def count_substring(str1,substr):\n",
    "    return str1.count(substr)"
   ]
  },
  {
   "cell_type": "code",
   "execution_count": 17,
   "metadata": {},
   "outputs": [],
   "source": [
    "\"\"\"question 17\n",
    "Write a program to make a new string with the word \"the\" deleted in the sentence \n",
    "\"This is the lion in the cage\".\"\"\"\n",
    "\n",
    "def delete(str1,str2):\n",
    "    l1=len(str2)\n",
    "    temp=str1.find(str2)\n",
    "    return str1[0:temp]+str1[temp+l1:len(str1)]\n",
    "    "
   ]
  },
  {
   "cell_type": "code",
   "execution_count": 18,
   "metadata": {},
   "outputs": [],
   "source": [
    "\"\"\"question 18\n",
    "Check if there are K consecutive 1’s in a binary number. \n",
    "Example: ’100100111011110010111’\n",
    "k = 3 output: True\n",
    "k = 5 output: False\n",
    "\"\"\"\n",
    "def consecutive_count(str1,number):\n",
    "    temp='1'*number\n",
    "    return True if str1.count(temp) else False\n",
    "    "
   ]
  },
  {
   "cell_type": "code",
   "execution_count": 19,
   "metadata": {},
   "outputs": [],
   "source": [
    "\"\"\"question 19\n",
    "reverse a string\"\"\"\n",
    "\n",
    "def reverse(string1):\n",
    "    return string1[-1:0:-1]+string1[0]"
   ]
  },
  {
   "cell_type": "code",
   "execution_count": 20,
   "metadata": {},
   "outputs": [],
   "source": [
    "\"\"\"question 20\n",
    "Find the only one non repeated number in a string (rest all have pairs). \n",
    "Example: ‘abcccdbfhadifih’ => has only 1 non pair c.\"\"\"\n",
    "\n",
    "def non_repeated(stringVal):\n",
    "    for i in stringVal:\n",
    "        if stringVal.count(i)%2==0:\n",
    "            return i"
   ]
  },
  {
   "cell_type": "code",
   "execution_count": 21,
   "metadata": {},
   "outputs": [],
   "source": [
    "\"\"\"quesiotn 21\n",
    "Write a program which accepts two strings s1 and s2 \n",
    "and checks if s2 is a substring of s1.\"\"\"\n",
    "def check_substring(string_,sub):\n",
    "    if string_.count(sub)>0:\n",
    "        return True\n",
    "    else:\n",
    "        return False\n",
    "\n"
   ]
  },
  {
   "cell_type": "code",
   "execution_count": 22,
   "metadata": {},
   "outputs": [],
   "source": [
    "\"\"\"quesiton 22\n",
    "Password validator\"\"\"\n",
    "def password(string1):\n",
    "    if(len(string1)<6 or len(string1)>12):\n",
    "        return 'invalid'\n",
    "    else:\n",
    "        for i in range(0,len(string1)):\n",
    "            if ord(string1[i])>65 and ord(string1[i])<91:\n",
    "                flag1=0\n",
    "                break\n",
    "            else:\n",
    "                flag1=1\n",
    "        for i in range(0,len(string1)):\n",
    "            if ord(string1[i])>97 and ord(string1[i])<123:\n",
    "                flag2=0\n",
    "                break\n",
    "            else:\n",
    "                flag2=1\n",
    "        for i in range(0,len(string1)):\n",
    "            if ord(string1[i])>47 and ord(string1[i])<58:\n",
    "                flag3=0\n",
    "                break\n",
    "            else:\n",
    "                flag3=1\n",
    "        for i in range(0,len(string1)):\n",
    "            if string1[i]=='@' or string1[i]=='#' or string1[i]=='$':\n",
    "                flag4=0\n",
    "                break\n",
    "            else:\n",
    "                flag4=1\n",
    "        if(flag1 or flag2 or flag3 or flag4):\n",
    "            return 'invalid'\n",
    "        else:\n",
    "            return 'valid'\n",
    "             \n",
    "        \n",
    "                "
   ]
  },
  {
   "cell_type": "code",
   "execution_count": 23,
   "metadata": {},
   "outputs": [
    {
     "data": {
      "text/plain": [
       "\"\\nTEST CASES:\\n\\nfind_length('what is lenght of this string?')\\nconcat('rohan','mujoo')\\nstr_count('this is a test sentence number 389')\\nprint_char('hello')\\nto_cap('hEllO')\\neven_index('rohan')\\nstr_upper_lower_count('ThIs is A tEsT StrinG')\\nslicestring('hello',2)\\ncase_swap('hEllO')   \\ncount_occourance('this is a terrestrial test to tamper with technique','t')  \\ncheck_palindrome('racecar')  \\nanagram('wax','awx') \\nswap_char('hello')\\nreplace_letter('hello',0,'j')\\ncount_substring('what is the the error','the')  \\ndelete('where is the horse?','the') \\nconsecutive_count('100100111011110010111',3) \\nreverse('Hello')\\nnon_repeated('abcccdbfhadifih')\\ncheck_substring('this is a test string','is')\\npassword('@123Rohan')\\n\""
      ]
     },
     "execution_count": 23,
     "metadata": {},
     "output_type": "execute_result"
    }
   ],
   "source": [
    "\"\"\"\n",
    "TEST CASES:\n",
    "\n",
    "find_length('what is lenght of this string?')\n",
    "concat('rohan','mujoo')\n",
    "str_count('this is a test sentence number 389')\n",
    "print_char('hello')\n",
    "to_cap('hEllO')\n",
    "even_index('rohan')\n",
    "str_upper_lower_count('ThIs is A tEsT StrinG')\n",
    "slicestring('hello',2)\n",
    "case_swap('hEllO')   \n",
    "count_occourance('this is a terrestrial test to tamper with technique','t')  \n",
    "check_palindrome('racecar')  \n",
    "anagram('wax','awx') \n",
    "swap_char('hello')\n",
    "replace_letter('hello',0,'j')\n",
    "count_substring('what is the the error','the')  \n",
    "delete('where is the horse?','the') \n",
    "consecutive_count('100100111011110010111',3) \n",
    "reverse('Hello')\n",
    "non_repeated('abcccdbfhadifih')\n",
    "check_substring('this is a test string','is')\n",
    "password('@123Rohan')\n",
    "\"\"\""
   ]
  }
 ],
 "metadata": {
  "kernelspec": {
   "display_name": "Python 3",
   "language": "python",
   "name": "python3"
  },
  "language_info": {
   "codemirror_mode": {
    "name": "ipython",
    "version": 3
   },
   "file_extension": ".py",
   "mimetype": "text/x-python",
   "name": "python",
   "nbconvert_exporter": "python",
   "pygments_lexer": "ipython3",
   "version": "3.7.3"
  }
 },
 "nbformat": 4,
 "nbformat_minor": 2
}
