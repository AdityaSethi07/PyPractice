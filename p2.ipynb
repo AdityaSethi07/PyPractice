{
 "cells": [
  {
   "cell_type": "code",
   "execution_count": 1,
   "metadata": {},
   "outputs": [
    {
     "name": "stdout",
     "output_type": "stream",
     "text": [
      "not\n"
     ]
    }
   ],
   "source": [
    "while False:\n",
    "    print('rohan0')\n",
    "else:\n",
    "    print('not')"
   ]
  },
  {
   "cell_type": "code",
   "execution_count": 2,
   "metadata": {},
   "outputs": [],
   "source": [
    "if True:\n",
    "    pass\n",
    "else:\n",
    "    print(\"wow\")"
   ]
  },
  {
   "cell_type": "code",
   "execution_count": 3,
   "metadata": {},
   "outputs": [
    {
     "data": {
      "text/plain": [
       "'practice'"
      ]
     },
     "execution_count": 3,
     "metadata": {},
     "output_type": "execute_result"
    }
   ],
   "source": [
    "\"\"\"practice\"\"\""
   ]
  },
  {
   "cell_type": "code",
   "execution_count": 4,
   "metadata": {},
   "outputs": [
    {
     "name": "stdout",
     "output_type": "stream",
     "text": [
      "rohan\n",
      "mujoo\n",
      "mujoo rohan\n"
     ]
    }
   ],
   "source": [
    "\"\"\"question 1\"\"\"\n",
    "fname=input()\n",
    "lname=input()\n",
    "\n",
    "name1=lname+' '+fname\n",
    "print(name1)"
   ]
  },
  {
   "cell_type": "code",
   "execution_count": 5,
   "metadata": {},
   "outputs": [
    {
     "name": "stdout",
     "output_type": "stream",
     "text": [
      "6   2.0\n"
     ]
    }
   ],
   "source": [
    "\"\"\"question 2\"\"\"\n",
    "x,y,z=1,2,3\n",
    "sum3=x+y+z\n",
    "avg=sum3/3\n",
    "print(sum3,' ',avg)"
   ]
  },
  {
   "cell_type": "code",
   "execution_count": 6,
   "metadata": {},
   "outputs": [
    {
     "name": "stdout",
     "output_type": "stream",
     "text": [
      "3\n",
      "4\n",
      "49\n"
     ]
    }
   ],
   "source": [
    "\"\"\"question 3\"\"\"\n",
    "x1=int(input())\n",
    "y1=int(input())\n",
    "#z=int(x+y)\n",
    "print((x1+y1)*(x1+y1))"
   ]
  },
  {
   "cell_type": "code",
   "execution_count": 7,
   "metadata": {},
   "outputs": [
    {
     "name": "stdout",
     "output_type": "stream",
     "text": [
      "20+30= 50\n"
     ]
    }
   ],
   "source": [
    "\"\"\"question 4\"\"\"\n",
    "x2=20\n",
    "y2=30\n",
    "print('20+30=',x2+y2)"
   ]
  },
  {
   "cell_type": "code",
   "execution_count": 8,
   "metadata": {},
   "outputs": [
    {
     "name": "stdout",
     "output_type": "stream",
     "text": [
      "enter name:rohan\n",
      "enter age:19\n",
      "rohan will turn hundred in:  2100\n"
     ]
    }
   ],
   "source": [
    "\"\"\"question 5\"\"\"\n",
    "\n",
    "cur=int(2019)\n",
    "name=input('enter name:')\n",
    "age=int(input('enter age:'))\n",
    "\n",
    "print(name,\"will turn hundred in: \",cur+100-age)"
   ]
  },
  {
   "cell_type": "code",
   "execution_count": 9,
   "metadata": {},
   "outputs": [
    {
     "name": "stdout",
     "output_type": "stream",
     "text": [
      "1\n",
      "4.1866666666666665\n"
     ]
    }
   ],
   "source": [
    "\"\"\"question 6\"\"\"\n",
    "\n",
    "radius=int(input())\n",
    "temp=float((4/3)*3.14)\n",
    "vol=temp*(radius**3)\n",
    "print(vol)"
   ]
  },
  {
   "cell_type": "code",
   "execution_count": 10,
   "metadata": {},
   "outputs": [
    {
     "name": "stdout",
     "output_type": "stream",
     "text": [
      "2\n",
      "3\n",
      "3.605551275463989\n"
     ]
    }
   ],
   "source": [
    "\"\"\"question 7\"\"\"\n",
    "\n",
    "base=int(input())\n",
    "height=int(input())\n",
    "hyp=(base**2+height**2)**.5\n",
    "print(hyp)"
   ]
  },
  {
   "cell_type": "code",
   "execution_count": 11,
   "metadata": {},
   "outputs": [
    {
     "name": "stdout",
     "output_type": "stream",
     "text": [
      "first x coordinate: 1\n",
      "second x coordinate: 1\n",
      "first y coordinate: 2\n",
      "second y coordinate: 2\n",
      "0.0\n"
     ]
    }
   ],
   "source": [
    "\"\"\"question 8\"\"\"\n",
    "\n",
    "c1=int(input(\"first x coordinate: \"))\n",
    "c2=int(input('second x coordinate: '))\n",
    "d1=int(input('first y coordinate: '))\n",
    "d2=int(input('second y coordinate: '))\n",
    "\n",
    "dist=((c1-c2)**2+(d1-d2)**2)**.5\n",
    "print(dist)"
   ]
  },
  {
   "cell_type": "code",
   "execution_count": 12,
   "metadata": {},
   "outputs": [
    {
     "name": "stdout",
     "output_type": "stream",
     "text": [
      "3\n",
      "False\n"
     ]
    }
   ],
   "source": [
    "\"\"\"question 9\"\"\"\n",
    "var=int(input())\n",
    "val=bool(var%2)\n",
    "print(not val)\n"
   ]
  },
  {
   "cell_type": "code",
   "execution_count": 13,
   "metadata": {},
   "outputs": [
    {
     "name": "stdout",
     "output_type": "stream",
     "text": [
      "3\n",
      "2\n",
      "3   2\n",
      "2   3\n"
     ]
    }
   ],
   "source": [
    "\"\"\"question 10\"\"\"\n",
    "a1=int(input())\n",
    "b1=int(input())\n",
    "print(a1,' ',b1)\n",
    "a1,b1=b1,a1\n",
    "print(a1,' ',b1)"
   ]
  },
  {
   "cell_type": "code",
   "execution_count": 14,
   "metadata": {},
   "outputs": [
    {
     "data": {
      "text/plain": [
       "'Loops'"
      ]
     },
     "execution_count": 14,
     "metadata": {},
     "output_type": "execute_result"
    }
   ],
   "source": [
    "\"\"\"Loops\"\"\"\n"
   ]
  },
  {
   "cell_type": "code",
   "execution_count": 15,
   "metadata": {},
   "outputs": [],
   "source": [
    "\"\"\"question 1\"\"\"\n",
    "def odd_even(num):\n",
    "    return num%2==0"
   ]
  },
  {
   "cell_type": "code",
   "execution_count": 16,
   "metadata": {},
   "outputs": [
    {
     "name": "stdout",
     "output_type": "stream",
     "text": [
      "3\n",
      "1.7320508075688772\n"
     ]
    }
   ],
   "source": [
    "\"\"\"question 2\"\"\"\n",
    "no1=int(input())\n",
    "print(no1**.5)"
   ]
  },
  {
   "cell_type": "code",
   "execution_count": 17,
   "metadata": {},
   "outputs": [
    {
     "name": "stdout",
     "output_type": "stream",
     "text": [
      "4\n",
      "1\n",
      "2\n",
      "3\n",
      "3\n",
      "2\n",
      "1\n"
     ]
    }
   ],
   "source": [
    "\"\"\"question 3\"\"\"\n",
    "n=int(input())\n",
    "for i in range(1,n):\n",
    "    print(i)\n",
    "for i in range(n-1,0,-1):\n",
    "    print(i)"
   ]
  },
  {
   "cell_type": "code",
   "execution_count": 18,
   "metadata": {},
   "outputs": [
    {
     "name": "stdout",
     "output_type": "stream",
     "text": [
      "even nos\n",
      "2\n",
      "4\n",
      "6\n",
      "8\n",
      "10\n",
      "12\n",
      "14\n",
      "16\n",
      "18\n",
      "20\n",
      "22\n",
      "24\n",
      "26\n",
      "28\n",
      "30\n",
      "32\n",
      "34\n",
      "36\n",
      "38\n",
      "40\n",
      "42\n",
      "44\n",
      "46\n",
      "48\n",
      "50\n",
      "52\n",
      "54\n",
      "56\n",
      "58\n",
      "60\n",
      "62\n",
      "64\n",
      "66\n",
      "68\n",
      "70\n",
      "72\n",
      "74\n",
      "76\n",
      "78\n",
      "80\n",
      "82\n",
      "84\n",
      "86\n",
      "88\n",
      "90\n",
      "92\n",
      "94\n",
      "96\n",
      "98\n",
      "odd nos:\n",
      "1\n",
      "3\n",
      "5\n",
      "7\n",
      "9\n",
      "11\n",
      "13\n",
      "15\n",
      "17\n",
      "19\n",
      "21\n",
      "23\n",
      "25\n",
      "27\n",
      "29\n",
      "31\n",
      "33\n",
      "35\n",
      "37\n",
      "39\n",
      "41\n",
      "43\n",
      "45\n",
      "47\n",
      "49\n",
      "51\n",
      "53\n",
      "55\n",
      "57\n",
      "59\n",
      "61\n",
      "63\n",
      "65\n",
      "67\n",
      "69\n",
      "71\n",
      "73\n",
      "75\n",
      "77\n",
      "79\n",
      "81\n",
      "83\n",
      "85\n",
      "87\n",
      "89\n",
      "91\n",
      "93\n",
      "95\n",
      "97\n",
      "99\n"
     ]
    }
   ],
   "source": [
    "\"\"\"question 4\"\"\"\n",
    "print(\"even nos\")\n",
    "for i in range(1,100):\n",
    "    if i%2==0:\n",
    "        print(i)\n",
    "print(\"odd nos:\")\n",
    "for i in range(1,100):\n",
    "    if i%2==1:\n",
    "        print(i)\n"
   ]
  },
  {
   "cell_type": "code",
   "execution_count": 19,
   "metadata": {},
   "outputs": [
    {
     "name": "stdout",
     "output_type": "stream",
     "text": [
      "2\n",
      "3\n",
      "4\n",
      "(-0.7499999999999999+1.1989578808281798j)   (-0.7500000000000001-1.1989578808281798j)\n"
     ]
    }
   ],
   "source": [
    "\"\"\"question 5\"\"\"\n",
    "a=int(input())\n",
    "b=int(input())\n",
    "c=int(input())\n",
    "\n",
    "det=(b**2)-(4*a*c)\n",
    "temp1=(-b)+(det**.5)\n",
    "temp2=(-b)-(det**.5)\n",
    "root1,root2=temp1/(2*a),temp2/(2*a)\n",
    "print(root1,\" \",root2)"
   ]
  },
  {
   "cell_type": "code",
   "execution_count": 20,
   "metadata": {},
   "outputs": [
    {
     "name": "stdout",
     "output_type": "stream",
     "text": [
      "345\n",
      "3\n"
     ]
    }
   ],
   "source": [
    "\"\"\"question 6\"\"\"\n",
    "num=int(input())\n",
    "count=0\n",
    "while num:\n",
    "    count=count+1\n",
    "    num =int(num/10)\n",
    "\n",
    "print(count)"
   ]
  },
  {
   "cell_type": "code",
   "execution_count": 21,
   "metadata": {},
   "outputs": [
    {
     "name": "stdout",
     "output_type": "stream",
     "text": [
      "31\n",
      "prime\n"
     ]
    }
   ],
   "source": [
    "\"\"\"question 7\"\"\"\n",
    "check=int(input())\n",
    "flag=0\n",
    "cval=int(check**.5)\n",
    "for i in range(2,cval+1):\n",
    "    if(check%i==0):\n",
    "        flag=1\n",
    "        break;\n",
    "if flag==1:\n",
    "    print(\"not prime\")\n",
    "else:\n",
    "    print(\"prime\")"
   ]
  },
  {
   "cell_type": "code",
   "execution_count": 22,
   "metadata": {},
   "outputs": [
    {
     "name": "stdout",
     "output_type": "stream",
     "text": [
      "345\n",
      "27600\n"
     ]
    }
   ],
   "source": [
    "\"\"\"question 8\"\"\"\n",
    "inp=int(input())\n",
    "sum_=0\n",
    "for i in range(inp):\n",
    "    if i%3==0 or i%5==0:\n",
    "        sum_=sum_+i\n",
    "print(sum_)"
   ]
  },
  {
   "cell_type": "code",
   "execution_count": 23,
   "metadata": {},
   "outputs": [
    {
     "name": "stdout",
     "output_type": "stream",
     "text": [
      "233168\n"
     ]
    }
   ],
   "source": [
    "\"\"\"question 10\"\"\"\n",
    "#inp=int(input())\n",
    "sum_=0\n",
    "for i in range(1000):\n",
    "    if i%3==0 or i%5==0:\n",
    "        sum_=sum_+i\n",
    "print(sum_)"
   ]
  },
  {
   "cell_type": "code",
   "execution_count": 24,
   "metadata": {},
   "outputs": [
    {
     "name": "stdout",
     "output_type": "stream",
     "text": [
      "Enter a digit upto which sum/product is to be calculated: 5\n",
      "1.)sum\n",
      "2.)product\n",
      "enter choice 2\n",
      "120\n"
     ]
    }
   ],
   "source": [
    "\"\"\"question 9\"\"\"\n",
    "inp=int(input(\"Enter a digit upto which sum/product is to be calculated: \"))\n",
    "sum_=0\n",
    "prod=1\n",
    "print(\"1.)sum\\n2.)product\")\n",
    "ch=int(input(\"enter choice \"))\n",
    "if ch==1:\n",
    "    for i in range(inp+1):\n",
    "        sum_=sum_+i\n",
    "    print(sum_)\n",
    "elif ch==2:\n",
    "    for i in range(1,inp+1):\n",
    "        prod=prod*i\n",
    "    print(prod)\n",
    "else:\n",
    "    print(\"enter correct choice\")\n"
   ]
  },
  {
   "cell_type": "code",
   "execution_count": 25,
   "metadata": {},
   "outputs": [
    {
     "name": "stdout",
     "output_type": "stream",
     "text": [
      "2002\n",
      "2009\n",
      "2016\n",
      "2023\n",
      "2037\n",
      "2044\n",
      "2051\n",
      "2058\n",
      "2072\n",
      "2079\n",
      "2086\n",
      "2093\n",
      "2107\n",
      "2114\n",
      "2121\n",
      "2128\n",
      "2142\n",
      "2149\n",
      "2156\n",
      "2163\n",
      "2177\n",
      "2184\n",
      "2191\n",
      "2198\n",
      "2212\n",
      "2219\n",
      "2226\n",
      "2233\n",
      "2247\n",
      "2254\n",
      "2261\n",
      "2268\n",
      "2282\n",
      "2289\n",
      "2296\n",
      "2303\n",
      "2317\n",
      "2324\n",
      "2331\n",
      "2338\n",
      "2352\n",
      "2359\n",
      "2366\n",
      "2373\n",
      "2387\n",
      "2394\n",
      "2401\n",
      "2408\n",
      "2422\n",
      "2429\n",
      "2436\n",
      "2443\n",
      "2457\n",
      "2464\n",
      "2471\n",
      "2478\n",
      "2492\n",
      "2499\n",
      "2506\n",
      "2513\n",
      "2527\n",
      "2534\n",
      "2541\n",
      "2548\n",
      "2562\n",
      "2569\n",
      "2576\n",
      "2583\n",
      "2597\n",
      "2604\n",
      "2611\n",
      "2618\n",
      "2632\n",
      "2639\n",
      "2646\n",
      "2653\n",
      "2667\n",
      "2674\n",
      "2681\n",
      "2688\n",
      "2702\n",
      "2709\n",
      "2716\n",
      "2723\n",
      "2737\n",
      "2744\n",
      "2751\n",
      "2758\n",
      "2772\n",
      "2779\n",
      "2786\n",
      "2793\n",
      "2807\n",
      "2814\n",
      "2821\n",
      "2828\n",
      "2842\n",
      "2849\n",
      "2856\n",
      "2863\n",
      "2877\n",
      "2884\n",
      "2891\n",
      "2898\n",
      "2912\n",
      "2919\n",
      "2926\n",
      "2933\n",
      "2947\n",
      "2954\n",
      "2961\n",
      "2968\n",
      "2982\n",
      "2989\n",
      "2996\n",
      "3003\n",
      "3017\n",
      "3024\n",
      "3031\n",
      "3038\n",
      "3052\n",
      "3059\n",
      "3066\n",
      "3073\n",
      "3087\n",
      "3094\n",
      "3101\n",
      "3108\n",
      "3122\n",
      "3129\n",
      "3136\n",
      "3143\n",
      "3157\n",
      "3164\n",
      "3171\n",
      "3178\n",
      "3192\n",
      "3199\n"
     ]
    }
   ],
   "source": [
    "\"\"\"question 11\"\"\"\n",
    "for i in range(2000,3200+1):\n",
    "    if i%7==0 and i%5!=0 :\n",
    "        print(i)"
   ]
  },
  {
   "cell_type": "code",
   "execution_count": 26,
   "metadata": {},
   "outputs": [
    {
     "name": "stdout",
     "output_type": "stream",
     "text": [
      "2\n",
      "4.0\n"
     ]
    }
   ],
   "source": [
    "\"\"\"question 12\"\"\"\n",
    "n=int(input())\n",
    "sqsum=(n*(n+1)*(2*n+1))/6\n",
    "sumsq=((n*(n+1))/2)**2\n",
    "if(sqsum>sumsq):\n",
    "    diff= sqsum - sumsq\n",
    "else:\n",
    "    diff=sumsq-sqsum\n",
    "print(diff)"
   ]
  },
  {
   "cell_type": "code",
   "execution_count": 27,
   "metadata": {},
   "outputs": [
    {
     "name": "stdout",
     "output_type": "stream",
     "text": [
      "1\n",
      "2\n",
      "3\n",
      "4\n",
      "stop\n",
      "10   4   2.5\n"
     ]
    }
   ],
   "source": [
    "\"\"\"question 13\"\"\"\n",
    "inp=input()\n",
    "sumval=0\n",
    "count=0\n",
    "while inp!='stop':\n",
    "    #inp=(input())\n",
    "    sumval += int(inp)\n",
    "    count += 1\n",
    "    inp=input()\n",
    "avg=sumval/count\n",
    "\n",
    "print(sumval,' ',count,' ',avg)"
   ]
  },
  {
   "cell_type": "code",
   "execution_count": 28,
   "metadata": {},
   "outputs": [
    {
     "name": "stdout",
     "output_type": "stream",
     "text": [
      "23\n",
      "2\n",
      "3\n",
      "5\n",
      "7\n",
      "11\n",
      "13\n",
      "17\n",
      "19\n",
      "23\n"
     ]
    }
   ],
   "source": [
    "\"\"\"question 14\"\"\"\n",
    "flag=0\n",
    "num1=int(input())\n",
    "for i in range(2,num1+1):\n",
    "    flag=0\n",
    "    for j in range(2,i):\n",
    "        if(i%j==0 and i!=2):\n",
    "            flag=1\n",
    "            break\n",
    "        else:\n",
    "            flag=0\n",
    "            \n",
    "    if flag==0:\n",
    "        print(i)"
   ]
  },
  {
   "cell_type": "code",
   "execution_count": 29,
   "metadata": {},
   "outputs": [
    {
     "name": "stdout",
     "output_type": "stream",
     "text": [
      "5\n",
      "1 1 2 3 5 8 "
     ]
    }
   ],
   "source": [
    "\"\"\"question 16\"\"\"\n",
    "a=0\n",
    "b=1\n",
    "c=1\n",
    "n=int(input())\n",
    "for i in range(n+1):\n",
    "    print(c,end=' ')\n",
    "    c=a+b\n",
    "    a=b\n",
    "    b=c"
   ]
  },
  {
   "cell_type": "code",
   "execution_count": 30,
   "metadata": {},
   "outputs": [
    {
     "name": "stdout",
     "output_type": "stream",
     "text": [
      "5\n",
      "120\n"
     ]
    }
   ],
   "source": [
    "\"\"\"question 15\"\"\"\n",
    "f=int(input())\n",
    "fact=1\n",
    "for i in range(1,f+1):\n",
    "        fact=fact*i\n",
    "print(fact)"
   ]
  },
  {
   "cell_type": "code",
   "execution_count": 31,
   "metadata": {},
   "outputs": [
    {
     "name": "stdout",
     "output_type": "stream",
     "text": [
      "3\n",
      "7\n",
      "3\n"
     ]
    }
   ],
   "source": [
    "\"\"\"question 17\"\"\"\n",
    "\n",
    "#\"\"\"need to use recursion to compute gcd\"\"\"\n",
    "num_1=int(input())\n",
    "num_2=int(input())\n",
    "temp=0\n",
    "lcm=1\n",
    "if num_1>num_2:\n",
    "    temp=num_2\n",
    "else:\n",
    "    temp=num_1\n",
    "for i in range(2,temp+1):\n",
    "    if(num_1 % i ==0 and num_2 % i==0):\n",
    "        lcm=i\n",
    "        break\n",
    "print(i)\n",
    "        "
   ]
  },
  {
   "cell_type": "code",
   "execution_count": 32,
   "metadata": {},
   "outputs": [
    {
     "name": "stdout",
     "output_type": "stream",
     "text": [
      "28\n",
      "1\n",
      "2\n",
      "4\n",
      "7\n",
      "14\n",
      "28\n"
     ]
    }
   ],
   "source": [
    "\"\"\"question 18\"\"\"\n",
    "check=int(input())\n",
    "#flag=0\n",
    "for i in range(1,check+1):\n",
    "    if(check%i==0):\n",
    "        print(i)"
   ]
  },
  {
   "cell_type": "code",
   "execution_count": 33,
   "metadata": {},
   "outputs": [
    {
     "name": "stdout",
     "output_type": "stream",
     "text": [
      "*******\n",
      "\n",
      "******\n",
      "\n",
      "*****\n",
      "\n",
      "****\n",
      "\n",
      "***\n",
      "\n",
      "**\n",
      "\n",
      "*\n",
      "\n",
      "\n",
      "\n",
      "\n",
      "*\n",
      "\n",
      "**\n",
      "\n",
      "***\n",
      "\n",
      "****\n",
      "\n",
      "*****\n",
      "\n",
      "\n",
      "\n",
      "\n",
      "1 \n",
      "\n",
      "2 2 \n",
      "\n",
      "3 3 3 \n",
      "\n",
      "4 4 4 4 \n",
      "\n",
      "5 5 5 5 5 \n",
      "\n",
      "\n",
      "\n",
      "\n",
      "1 \n",
      "\n",
      "2 3 \n",
      "\n",
      "4 5 6 \n",
      "\n",
      "7 8 9 10 \n",
      "\n",
      "\n",
      "\n",
      "\n",
      "A \n",
      "\n",
      "B C \n",
      "\n",
      "D E F \n",
      "\n",
      "G H I J \n",
      "\n"
     ]
    }
   ],
   "source": [
    "\"\"\"pattern program\"\"\"\n",
    "for i in range(1,8):\n",
    "    for j in range(1,8):\n",
    "        if i<=j:\n",
    "            print('*',end='')\n",
    "    print('\\n')\n",
    "\n",
    "print('\\n\\n')\n",
    "\n",
    "for i in range(1,6):\n",
    "    for j in range(1,6):\n",
    "        if i>=j:\n",
    "            print('*',end='')\n",
    "    print('\\n')\n",
    "\n",
    "print('\\n\\n')\n",
    "\n",
    "\n",
    "for i in range(1,6):\n",
    "    for j in range(1,6):\n",
    "        if i>=j:\n",
    "            print(i,end=' ')\n",
    "    print('\\n')\n",
    "\n",
    "print('\\n\\n')\n",
    "\n",
    "k=0\n",
    "for i in range(1,5):\n",
    "    for j in range(1,5):\n",
    "        if i>=j:\n",
    "            k=k+1\n",
    "            print(k,end=' ')\n",
    "            \n",
    "    print('\\n')\n",
    "\n",
    "print('\\n\\n')    \n",
    "\n",
    "k=65\n",
    "for i in range(1,5):\n",
    "    for j in range(1,5):\n",
    "        if i>=j:\n",
    "            \n",
    "            print(chr(k),end=' ')\n",
    "            k=k+1\n",
    "    print('\\n')\n",
    "\n",
    "    "
   ]
  },
  {
   "cell_type": "code",
   "execution_count": 34,
   "metadata": {},
   "outputs": [
    {
     "name": "stdout",
     "output_type": "stream",
     "text": [
      "    \n",
      "\n",
      "   **\n",
      "\n",
      "  ****\n",
      "\n",
      " ******\n",
      "\n",
      "********\n",
      "\n"
     ]
    }
   ],
   "source": [
    "\"\"\"pyramid pattern trial\"\"\"\n",
    "n=6\n",
    "for i in range(1,6):\n",
    "    for j in range(1,n-1):\n",
    "        print(\" \",end='')\n",
    "    n= n-1\n",
    "    for k in range(1,2*i-1):\n",
    "        print(\"*\",end='')\n",
    "    print('\\n')\n",
    "        \n"
   ]
  },
  {
   "cell_type": "code",
   "execution_count": 35,
   "metadata": {},
   "outputs": [
    {
     "name": "stdout",
     "output_type": "stream",
     "text": [
      "9\n",
      "9 + 99 + 999 + 9999 + = 11106\n"
     ]
    }
   ],
   "source": [
    "\"\"\"question 22\"\"\"\n",
    "\n",
    "val=int(input())\n",
    "sum2=0\n",
    "fsum=0\n",
    "for i in range(4):\n",
    "    sum2=((sum2*10)+val)\n",
    "    print(sum2,'+ ',end='')\n",
    "    fsum +=sum2\n",
    "print('\\b =',fsum)\n"
   ]
  },
  {
   "cell_type": "code",
   "execution_count": null,
   "metadata": {},
   "outputs": [],
   "source": []
  }
 ],
 "metadata": {
  "kernelspec": {
   "display_name": "Python 3",
   "language": "python",
   "name": "python3"
  },
  "language_info": {
   "codemirror_mode": {
    "name": "ipython",
    "version": 3
   },
   "file_extension": ".py",
   "mimetype": "text/x-python",
   "name": "python",
   "nbconvert_exporter": "python",
   "pygments_lexer": "ipython3",
   "version": "3.7.3"
  }
 },
 "nbformat": 4,
 "nbformat_minor": 2
}
