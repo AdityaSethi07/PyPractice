{
 "cells": [
  {
   "cell_type": "code",
   "execution_count": 1,
   "metadata": {},
   "outputs": [],
   "source": [
    "\"\"\"question 1\"\"\"\n",
    "def power(x,y):\n",
    "    return x**y"
   ]
  },
  {
   "cell_type": "code",
   "execution_count": 2,
   "metadata": {},
   "outputs": [],
   "source": [
    "\"\"\"question 2\"\"\"\n",
    "def concat(str1='hello',str2='world'):\n",
    "    return str1+str2"
   ]
  },
  {
   "cell_type": "code",
   "execution_count": 3,
   "metadata": {},
   "outputs": [],
   "source": [
    "\"\"\"question 3\"\"\"\n",
    "def check_even(n):\n",
    "    return not bool(n%2)"
   ]
  },
  {
   "cell_type": "code",
   "execution_count": 4,
   "metadata": {},
   "outputs": [],
   "source": [
    "\"\"\"question 4\"\"\"\n",
    "def check_prime(check):\n",
    "    flag=0\n",
    "    cval=int(check**.5)\n",
    "    for i in range(2,cval+1):\n",
    "        if(check%i==0):\n",
    "            flag=1\n",
    "            break;\n",
    "    return bool(flag)"
   ]
  },
  {
   "cell_type": "code",
   "execution_count": 5,
   "metadata": {},
   "outputs": [],
   "source": [
    "\"\"\"question 5\n",
    "Check palindrome\"\"\"\n",
    "def check_palindrome(string1):\n",
    "    size=len(string1)\n",
    "    flag=0\n",
    "    for i in range(0,size):\n",
    "        if string1[i] != string1[size-i-1] :\n",
    "            flag =1\n",
    "    return not bool(flag)\n",
    "        "
   ]
  },
  {
   "cell_type": "code",
   "execution_count": 6,
   "metadata": {},
   "outputs": [],
   "source": [
    "\"\"\"quesiton 6\"\"\"\n",
    "def count_words(string):\n",
    "    count=1\n",
    "    j=0\n",
    "    for i in range(len(string)-1):\n",
    "        if ord(string[i])!=32 and ord(string[i+1])==32:\n",
    "            count +=1\n",
    "        #i=i+1\n",
    "    if ord(string[-1])==32:\n",
    "        count-=1\n",
    "    return count"
   ]
  },
  {
   "cell_type": "code",
   "execution_count": 7,
   "metadata": {},
   "outputs": [],
   "source": [
    "\"\"\"question 7\"\"\"\n",
    "\n",
    "def largest(a,b,c):\n",
    "    temp=c if c>b and c>a else b if b>a else a\n",
    "    return temp"
   ]
  },
  {
   "cell_type": "code",
   "execution_count": 8,
   "metadata": {},
   "outputs": [],
   "source": [
    "\"\"\"quesiton 8\"\"\"\n",
    "def print_series(n1,n2):\n",
    "    count,i=1,0\n",
    "    while count !=n1:\n",
    "        i +=1\n",
    "        if ((3*i)+2) % n2 != 0:\n",
    "            print((3*i)+2)\n",
    "            count +=1"
   ]
  },
  {
   "cell_type": "code",
   "execution_count": 9,
   "metadata": {},
   "outputs": [],
   "source": [
    "\"\"\"question 9\"\"\"\n",
    "def rev_no(n):\n",
    "    sum_=0\n",
    "    while n:\n",
    "        sum_ = (sum_*10)+(n%10)\n",
    "        n=int(n/10)\n",
    "    return sum_"
   ]
  },
  {
   "cell_type": "code",
   "execution_count": 10,
   "metadata": {},
   "outputs": [
    {
     "data": {
      "text/plain": [
       "'question 10'"
      ]
     },
     "execution_count": 10,
     "metadata": {},
     "output_type": "execute_result"
    }
   ],
   "source": [
    "\"\"\"question 10\"\"\"\n",
    "#previously done"
   ]
  },
  {
   "cell_type": "code",
   "execution_count": 11,
   "metadata": {},
   "outputs": [],
   "source": [
    "\"\"\"question 11\"\"\"\n",
    "def replace0(n):\n",
    "    sum_=0\n",
    "    sum_2=0\n",
    "    while n:\n",
    "        if(n%10!=0):\n",
    "            sum_ = (sum_*10)+(n%10)\n",
    "            n=int(n/10)\n",
    "        else:\n",
    "            sum_ = (sum_*10)+5\n",
    "            n=int(n/10)\n",
    "   # return sum_\n",
    "    while sum_:\n",
    "        sum_2=(sum_2*10)+(sum_%10)\n",
    "        sum_=int(sum_/10)\n",
    "    \n",
    "    return sum_2"
   ]
  },
  {
   "cell_type": "code",
   "execution_count": 12,
   "metadata": {},
   "outputs": [],
   "source": [
    "\"\"\"question 12\"\"\"\n",
    "def multiplication_table(num):\n",
    "    for i in range(11):\n",
    "        print(\"{}x{}={}\".format(num,i,i*num))"
   ]
  },
  {
   "cell_type": "code",
   "execution_count": 13,
   "metadata": {},
   "outputs": [],
   "source": [
    "\"\"\"question 13\"\"\"\n",
    "def sum_of_digits(num):\n",
    "    return sum(map(lambda x: int(x),list(map(lambda x: x,str(num)))))"
   ]
  },
  {
   "cell_type": "code",
   "execution_count": 14,
   "metadata": {},
   "outputs": [],
   "source": [
    "\"\"\"question 14\"\"\"\n",
    "def even_no_in_list(list1):\n",
    "    return list(filter(lambda x: not x%2,list1))"
   ]
  },
  {
   "cell_type": "code",
   "execution_count": 15,
   "metadata": {},
   "outputs": [],
   "source": [
    "\"\"\"question 15\"\"\"\n",
    "def even_sq_in_list(list1):\n",
    "    return list(filter(lambda x: not x**.5%2,list1))"
   ]
  },
  {
   "cell_type": "code",
   "execution_count": 16,
   "metadata": {},
   "outputs": [],
   "source": [
    "\"\"\"question 16\"\"\"\n",
    "def remove_punctuation(string):\n",
    "    #str(filter(lambda x: x.isalpha() ,string))\n",
    "    s =\"\".join(list((filter(lambda x: x.isalpha() or x is chr(32),string))))\n",
    "    return s\n",
    "#this is returning filter ofbject"
   ]
  },
  {
   "cell_type": "code",
   "execution_count": 17,
   "metadata": {},
   "outputs": [],
   "source": [
    "\"\"\"question 17\"\"\"\n",
    "def reverse(num):\n",
    "    return int(\"\".join(list(reversed(str(num)))))"
   ]
  },
  {
   "cell_type": "code",
   "execution_count": null,
   "metadata": {},
   "outputs": [],
   "source": []
  },
  {
   "cell_type": "code",
   "execution_count": null,
   "metadata": {},
   "outputs": [],
   "source": []
  }
 ],
 "metadata": {
  "kernelspec": {
   "display_name": "Python 3",
   "language": "python",
   "name": "python3"
  },
  "language_info": {
   "codemirror_mode": {
    "name": "ipython",
    "version": 3
   },
   "file_extension": ".py",
   "mimetype": "text/x-python",
   "name": "python",
   "nbconvert_exporter": "python",
   "pygments_lexer": "ipython3",
   "version": "3.7.3"
  }
 },
 "nbformat": 4,
 "nbformat_minor": 2
}
